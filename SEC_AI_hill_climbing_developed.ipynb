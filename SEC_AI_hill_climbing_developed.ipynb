{
 "cells": [
  {
   "cell_type": "code",
   "execution_count": 1,
   "id": "456faa04",
   "metadata": {},
   "outputs": [],
   "source": [
    "%matplotlib inline\n",
    "import matplotlib.pyplot as plt\n",
    "import random\n",
    "import math\n",
    "import sys\n",
    "from collections import defaultdict, deque, Counter\n",
    "from itertools import combinations\n",
    "from IPython.display import display\n",
    "from notebook import plot_NQueens\n",
    "import time\n",
    "start_time = time.time()"
   ]
  },
  {
   "cell_type": "code",
   "execution_count": 2,
   "id": "568d2a78",
   "metadata": {},
   "outputs": [
    {
     "name": "stdout",
     "output_type": "stream",
     "text": [
      "Requirement already satisfied: ipywidgets in ./anaconda3/envs/ml/lib/python3.9/site-packages (7.7.0)\n",
      "Requirement already satisfied: ipykernel>=4.5.1 in ./anaconda3/envs/ml/lib/python3.9/site-packages (from ipywidgets) (6.4.1)\n",
      "Requirement already satisfied: traitlets>=4.3.1 in ./anaconda3/envs/ml/lib/python3.9/site-packages (from ipywidgets) (5.1.0)\n",
      "Requirement already satisfied: jupyterlab-widgets>=1.0.0 in ./anaconda3/envs/ml/lib/python3.9/site-packages (from ipywidgets) (1.1.0)\n",
      "Requirement already satisfied: ipython>=4.0.0 in ./anaconda3/envs/ml/lib/python3.9/site-packages (from ipywidgets) (7.27.0)\n",
      "Requirement already satisfied: widgetsnbextension~=3.6.0 in ./anaconda3/envs/ml/lib/python3.9/site-packages (from ipywidgets) (3.6.0)\n",
      "Requirement already satisfied: ipython-genutils~=0.2.0 in ./anaconda3/envs/ml/lib/python3.9/site-packages (from ipywidgets) (0.2.0)\n",
      "Requirement already satisfied: nbformat>=4.2.0 in ./anaconda3/envs/ml/lib/python3.9/site-packages (from ipywidgets) (5.1.3)\n",
      "Requirement already satisfied: debugpy<2.0,>=1.0.0 in ./anaconda3/envs/ml/lib/python3.9/site-packages (from ipykernel>=4.5.1->ipywidgets) (1.4.1)\n",
      "Requirement already satisfied: tornado<7.0,>=4.2 in ./anaconda3/envs/ml/lib/python3.9/site-packages (from ipykernel>=4.5.1->ipywidgets) (6.1)\n",
      "Requirement already satisfied: matplotlib-inline<0.2.0,>=0.1.0 in ./anaconda3/envs/ml/lib/python3.9/site-packages (from ipykernel>=4.5.1->ipywidgets) (0.1.3)\n",
      "Requirement already satisfied: jupyter-client<8.0 in ./anaconda3/envs/ml/lib/python3.9/site-packages (from ipykernel>=4.5.1->ipywidgets) (7.0.3)\n",
      "Requirement already satisfied: setuptools>=18.5 in ./anaconda3/envs/ml/lib/python3.9/site-packages (from ipython>=4.0.0->ipywidgets) (58.0.4)\n",
      "Requirement already satisfied: pygments in ./anaconda3/envs/ml/lib/python3.9/site-packages (from ipython>=4.0.0->ipywidgets) (2.10.0)\n",
      "Requirement already satisfied: pickleshare in ./anaconda3/envs/ml/lib/python3.9/site-packages (from ipython>=4.0.0->ipywidgets) (0.7.5)\n",
      "Requirement already satisfied: decorator in ./anaconda3/envs/ml/lib/python3.9/site-packages (from ipython>=4.0.0->ipywidgets) (5.1.0)\n",
      "Requirement already satisfied: backcall in ./anaconda3/envs/ml/lib/python3.9/site-packages (from ipython>=4.0.0->ipywidgets) (0.2.0)\n",
      "Requirement already satisfied: pexpect>4.3 in ./anaconda3/envs/ml/lib/python3.9/site-packages (from ipython>=4.0.0->ipywidgets) (4.8.0)\n",
      "Requirement already satisfied: jedi>=0.16 in ./anaconda3/envs/ml/lib/python3.9/site-packages (from ipython>=4.0.0->ipywidgets) (0.18.0)\n",
      "Requirement already satisfied: prompt-toolkit!=3.0.0,!=3.0.1,<3.1.0,>=2.0.0 in ./anaconda3/envs/ml/lib/python3.9/site-packages (from ipython>=4.0.0->ipywidgets) (3.0.20)\n",
      "Requirement already satisfied: parso<0.9.0,>=0.8.0 in ./anaconda3/envs/ml/lib/python3.9/site-packages (from jedi>=0.16->ipython>=4.0.0->ipywidgets) (0.8.2)\n",
      "Requirement already satisfied: python-dateutil>=2.1 in ./anaconda3/envs/ml/lib/python3.9/site-packages (from jupyter-client<8.0->ipykernel>=4.5.1->ipywidgets) (2.8.2)\n",
      "Requirement already satisfied: entrypoints in ./anaconda3/envs/ml/lib/python3.9/site-packages (from jupyter-client<8.0->ipykernel>=4.5.1->ipywidgets) (0.3)\n",
      "Requirement already satisfied: nest-asyncio>=1.5 in ./anaconda3/envs/ml/lib/python3.9/site-packages (from jupyter-client<8.0->ipykernel>=4.5.1->ipywidgets) (1.5.1)\n",
      "Requirement already satisfied: pyzmq>=13 in ./anaconda3/envs/ml/lib/python3.9/site-packages (from jupyter-client<8.0->ipykernel>=4.5.1->ipywidgets) (22.3.0)\n",
      "Requirement already satisfied: jupyter-core>=4.6.0 in ./anaconda3/envs/ml/lib/python3.9/site-packages (from jupyter-client<8.0->ipykernel>=4.5.1->ipywidgets) (4.8.1)\n",
      "Requirement already satisfied: jsonschema!=2.5.0,>=2.4 in ./anaconda3/envs/ml/lib/python3.9/site-packages (from nbformat>=4.2.0->ipywidgets) (3.2.0)\n",
      "Requirement already satisfied: pyrsistent>=0.14.0 in ./anaconda3/envs/ml/lib/python3.9/site-packages (from jsonschema!=2.5.0,>=2.4->nbformat>=4.2.0->ipywidgets) (0.17.3)\n",
      "Requirement already satisfied: six>=1.11.0 in ./anaconda3/envs/ml/lib/python3.9/site-packages (from jsonschema!=2.5.0,>=2.4->nbformat>=4.2.0->ipywidgets) (1.15.0)\n",
      "Requirement already satisfied: attrs>=17.4.0 in ./anaconda3/envs/ml/lib/python3.9/site-packages (from jsonschema!=2.5.0,>=2.4->nbformat>=4.2.0->ipywidgets) (21.2.0)\n",
      "Requirement already satisfied: ptyprocess>=0.5 in ./anaconda3/envs/ml/lib/python3.9/site-packages (from pexpect>4.3->ipython>=4.0.0->ipywidgets) (0.7.0)\n",
      "Requirement already satisfied: wcwidth in ./anaconda3/envs/ml/lib/python3.9/site-packages (from prompt-toolkit!=3.0.0,!=3.0.1,<3.1.0,>=2.0.0->ipython>=4.0.0->ipywidgets) (0.2.5)\n",
      "Requirement already satisfied: notebook>=4.4.1 in ./anaconda3/envs/ml/lib/python3.9/site-packages (from widgetsnbextension~=3.6.0->ipywidgets) (6.4.4)\n",
      "Requirement already satisfied: nbconvert in ./anaconda3/envs/ml/lib/python3.9/site-packages (from notebook>=4.4.1->widgetsnbextension~=3.6.0->ipywidgets) (6.1.0)\n",
      "Requirement already satisfied: Send2Trash>=1.5.0 in ./anaconda3/envs/ml/lib/python3.9/site-packages (from notebook>=4.4.1->widgetsnbextension~=3.6.0->ipywidgets) (1.8.0)\n",
      "Requirement already satisfied: jinja2 in ./anaconda3/envs/ml/lib/python3.9/site-packages (from notebook>=4.4.1->widgetsnbextension~=3.6.0->ipywidgets) (3.0.1)\n",
      "Requirement already satisfied: terminado>=0.8.3 in ./anaconda3/envs/ml/lib/python3.9/site-packages (from notebook>=4.4.1->widgetsnbextension~=3.6.0->ipywidgets) (0.12.1)\n",
      "Requirement already satisfied: prometheus-client in ./anaconda3/envs/ml/lib/python3.9/site-packages (from notebook>=4.4.1->widgetsnbextension~=3.6.0->ipywidgets) (0.11.0)\n",
      "Requirement already satisfied: argon2-cffi in ./anaconda3/envs/ml/lib/python3.9/site-packages (from notebook>=4.4.1->widgetsnbextension~=3.6.0->ipywidgets) (20.1.0)\n",
      "Requirement already satisfied: cffi>=1.0.0 in ./anaconda3/envs/ml/lib/python3.9/site-packages (from argon2-cffi->notebook>=4.4.1->widgetsnbextension~=3.6.0->ipywidgets) (1.14.6)\n",
      "Requirement already satisfied: pycparser in ./anaconda3/envs/ml/lib/python3.9/site-packages (from cffi>=1.0.0->argon2-cffi->notebook>=4.4.1->widgetsnbextension~=3.6.0->ipywidgets) (2.20)\n",
      "Requirement already satisfied: MarkupSafe>=2.0 in ./anaconda3/envs/ml/lib/python3.9/site-packages (from jinja2->notebook>=4.4.1->widgetsnbextension~=3.6.0->ipywidgets) (2.0.1)\n",
      "Requirement already satisfied: bleach in ./anaconda3/envs/ml/lib/python3.9/site-packages (from nbconvert->notebook>=4.4.1->widgetsnbextension~=3.6.0->ipywidgets) (4.1.0)\n",
      "Requirement already satisfied: pandocfilters>=1.4.1 in ./anaconda3/envs/ml/lib/python3.9/site-packages (from nbconvert->notebook>=4.4.1->widgetsnbextension~=3.6.0->ipywidgets) (1.5.0)\n",
      "Requirement already satisfied: testpath in ./anaconda3/envs/ml/lib/python3.9/site-packages (from nbconvert->notebook>=4.4.1->widgetsnbextension~=3.6.0->ipywidgets) (0.5.0)\n",
      "Requirement already satisfied: defusedxml in ./anaconda3/envs/ml/lib/python3.9/site-packages (from nbconvert->notebook>=4.4.1->widgetsnbextension~=3.6.0->ipywidgets) (0.7.1)\n",
      "Requirement already satisfied: jupyterlab-pygments in ./anaconda3/envs/ml/lib/python3.9/site-packages (from nbconvert->notebook>=4.4.1->widgetsnbextension~=3.6.0->ipywidgets) (0.1.2)\n",
      "Requirement already satisfied: nbclient<0.6.0,>=0.5.0 in ./anaconda3/envs/ml/lib/python3.9/site-packages (from nbconvert->notebook>=4.4.1->widgetsnbextension~=3.6.0->ipywidgets) (0.5.4)\n",
      "Requirement already satisfied: mistune<2,>=0.8.1 in ./anaconda3/envs/ml/lib/python3.9/site-packages (from nbconvert->notebook>=4.4.1->widgetsnbextension~=3.6.0->ipywidgets) (0.8.4)\n",
      "Requirement already satisfied: packaging in ./anaconda3/envs/ml/lib/python3.9/site-packages (from bleach->nbconvert->notebook>=4.4.1->widgetsnbextension~=3.6.0->ipywidgets) (21.0)\n",
      "Requirement already satisfied: webencodings in ./anaconda3/envs/ml/lib/python3.9/site-packages (from bleach->nbconvert->notebook>=4.4.1->widgetsnbextension~=3.6.0->ipywidgets) (0.5.1)\n",
      "Requirement already satisfied: pyparsing>=2.0.2 in ./anaconda3/envs/ml/lib/python3.9/site-packages (from packaging->bleach->nbconvert->notebook>=4.4.1->widgetsnbextension~=3.6.0->ipywidgets) (2.4.7)\n",
      "Note: you may need to restart the kernel to use updated packages.\n"
     ]
    }
   ],
   "source": [
    "pip install ipywidgets"
   ]
  },
  {
   "cell_type": "markdown",
   "id": "979a4a51",
   "metadata": {},
   "source": [
    "# Problems"
   ]
  },
  {
   "cell_type": "markdown",
   "id": "7d58e05c-5c73-492b-a5d0-77e6578ff7c2",
   "metadata": {},
   "source": [
    "#### This is the abstract class. Specific problem domains will subclass this."
   ]
  },
  {
   "cell_type": "code",
   "execution_count": 2,
   "id": "6cda9c85",
   "metadata": {},
   "outputs": [],
   "source": [
    "class Problem(object):\n",
    "    \"\"\"The abstract class for a formal problem. A new domain subclasses this,\n",
    "    overriding `actions` and `results`, and perhaps other methods.\n",
    "    The default heuristic is 0 and the default action cost is 1 for all states.\n",
    "    When yiou create an instance of a subclass, specify `initial`, and `goal` states \n",
    "    (or give an `is_goal` method) and perhaps other keyword args for the subclass.\"\"\"\n",
    "\n",
    "    def __init__(self, initial=None, goal=None, **kwds): \n",
    "        self.__dict__.update(initial=initial, goal=goal, **kwds) \n",
    "        \n",
    "    def actions(self, state):        \n",
    "        raise NotImplementedError\n",
    "    def result(self, state, action): \n",
    "        raise NotImplementedError\n",
    "    def is_goal(self, state):        \n",
    "        return state == self.goal\n",
    "    def action_cost(self, s, a, s1): \n",
    "        return 1\n",
    "    \n",
    "    def __str__(self):\n",
    "        return '{0}({1}, {2})'.format(\n",
    "            type(self).__name__, self.initial, self.goal)"
   ]
  },
  {
   "cell_type": "markdown",
   "id": "7a6d497d-96eb-498c-bd51-3c935d0dea0a",
   "metadata": {},
   "source": [
    "# Nodes"
   ]
  },
  {
   "cell_type": "markdown",
   "id": "b68f2b8d-7ccf-48e3-ab0d-151c7468675f",
   "metadata": {
    "tags": []
   },
   "source": [
    "#### This is the Node in the search tree. Helper functions (expand, path_actions, path_states) use this Node class."
   ]
  },
  {
   "cell_type": "code",
   "execution_count": 3,
   "id": "e3a0a4a9",
   "metadata": {},
   "outputs": [],
   "source": [
    "class Node:\n",
    "    \"A Node in a search tree.\"\n",
    "    def __init__(self, state, parent=None, action=None, path_cost=0):\n",
    "        self.__dict__.update(state=state, parent=parent, action=action, path_cost=path_cost)\n",
    "\n",
    "    def __str__(self): \n",
    "        return '<{0}>'.format(self.state)\n",
    "    def __len__(self): \n",
    "        return 0 if self.parent is None else (1 + len(self.parent))\n",
    "    def __lt__(self, other): \n",
    "        return self.path_cost < other.path_cost"
   ]
  },
  {
   "cell_type": "code",
   "execution_count": 4,
   "id": "abc1a9ff",
   "metadata": {},
   "outputs": [],
   "source": [
    "failure = Node('failure', path_cost=math.inf) # Indicates an algorithm couldn't find a solution.\n",
    "cutoff  = Node('cutoff',  path_cost=math.inf) # Indicates iterative deepening search was cut off."
   ]
  },
  {
   "cell_type": "markdown",
   "id": "1f1eed03-f5bb-48ec-8b60-e882d93c2fdf",
   "metadata": {},
   "source": [
    "# Helper functions"
   ]
  },
  {
   "cell_type": "code",
   "execution_count": 5,
   "id": "6f8c0a62",
   "metadata": {},
   "outputs": [],
   "source": [
    "def expand(problem, state):\n",
    "    return problem.actions(state)"
   ]
  },
  {
   "cell_type": "markdown",
   "id": "71b52326-6672-43ad-a7b8-5f7f6ee201b0",
   "metadata": {},
   "source": [
    "# Solving NQueens Problem using Hill Climbing"
   ]
  },
  {
   "cell_type": "code",
   "execution_count": 6,
   "id": "2aec2f35-b0c8-4502-a9df-0be75d6f8cc0",
   "metadata": {},
   "outputs": [],
   "source": [
    "class NQueensProblem(Problem):\n",
    "\n",
    "    def __init__(self, N):\n",
    "        super().__init__(initial=tuple(random.randint(0,N-1) for _ in tuple(range(N))))\n",
    "        self.N = N\n",
    "\n",
    "    def actions(self, state):\n",
    "        \"\"\" finds the nearest neighbors\"\"\"\n",
    "        neighbors = []\n",
    "        for i in range(self.N):\n",
    "            for j in range(self.N):\n",
    "                if j == state[i]:\n",
    "                    continue\n",
    "                s1 = list(state)\n",
    "                s1[i]=j\n",
    "                new_state = tuple(s1)\n",
    "                yield Node(state=new_state)\n",
    "\n",
    "    def result(self, state, row):\n",
    "        \"\"\"Place the next queen at the given row.\"\"\"\n",
    "        col = state.index(-1)\n",
    "        new = list(state[:])\n",
    "        new[col] = row\n",
    "        return tuple(new)\n",
    "\n",
    "    def conflicted(self, state, row, col):\n",
    "        \"\"\"Would placing a queen at (row, col) conflict with anything?\"\"\"\n",
    "        return any(self.conflict(row, col, state[c], c)\n",
    "                   for c in range(col))\n",
    "\n",
    "    def conflict(self, row1, col1, row2, col2):\n",
    "        \"\"\"Would putting two queens in (row1, col1) and (row2, col2) conflict?\"\"\"\n",
    "        return (row1 == row2 or  # same row\n",
    "                col1 == col2 or  # same column\n",
    "                row1 - col1 == row2 - col2 or  # same \\ diagonal\n",
    "                row1 + col1 == row2 + col2)  # same / diagonal\n",
    "\n",
    "    def goal_test(self, state):\n",
    "        return not any(self.conflicted(state, state[col], col)\n",
    "                       for col in range(len(state)))\n",
    "\n",
    "    def h(self, node):\n",
    "        \"\"\"Return number of conflicting queens for a given node\"\"\"\n",
    "        num_conflicts = 0\n",
    "        for (r1,c1) in enumerate(node.state):\n",
    "            for (r2,c2) in enumerate(node.state):\n",
    "                if(r1,c1) != (r2,c2):\n",
    "                    num_conflicts += self.conflict(r1,c1,r2,c2)\n",
    "        \n",
    "\n",
    "        return num_conflicts"
   ]
  },
  {
   "cell_type": "code",
   "execution_count": 7,
   "id": "b34736e6-d50b-4dce-8d32-a2c66a4c821b",
   "metadata": {},
   "outputs": [],
   "source": [
    "def shuffled(iterable):\n",
    "    \"\"\"Randomly shuffle a copy of iterable.\"\"\"\n",
    "    items = list(iterable)\n",
    "    random.shuffle(items)\n",
    "    return items"
   ]
  },
  {
   "cell_type": "code",
   "execution_count": 8,
   "id": "961c2b65-d5df-4b48-9844-358659702c54",
   "metadata": {},
   "outputs": [],
   "source": [
    "def argmin_random_tie(seq, key):\n",
    "    \"\"\"Return an element with highest fn(seq[i]) score; break ties at random.\"\"\"\n",
    "    return min(shuffled(seq), key=key)"
   ]
  },
  {
   "cell_type": "code",
   "execution_count": 9,
   "id": "0a6ee39d-9252-4930-9f44-d4fbba4a66f8",
   "metadata": {},
   "outputs": [],
   "source": [
    "def hill_climbing(problem,iterations = 10000):\n",
    "    # as this is a stochastic algorithm, we will set a cap on the number of iterations        \n",
    "    current = Node(problem.initial)\n",
    "    i=1\n",
    "    while i < iterations:\n",
    "        neighbors = expand(problem,current.state)\n",
    "        if not neighbors:\n",
    "            break\n",
    "        neighbor = argmin_random_tie(neighbors,key=lambda node:problem.h(node))\n",
    "        if problem.h(neighbor) <= problem.h(current):\n",
    "            \"\"\"Note that it is based on neggative path cost method\"\"\"\n",
    "            current.state = neighbor.state\n",
    "            if problem.goal_test(current.state)==True:\n",
    "                print(\"Goal test succeeded at iteration {0}.\",format(i))\n",
    "                return current\n",
    "        i += 1        \n",
    "    return current"
   ]
  },
  {
   "cell_type": "code",
   "execution_count": 10,
   "id": "9b3c2066-34d3-4f2b-a107-386b9f40fa90",
   "metadata": {},
   "outputs": [],
   "source": [
    "nq1=NQueensProblem(8)"
   ]
  },
  {
   "cell_type": "code",
   "execution_count": 11,
   "id": "33415178-70af-4e94-8a26-d788481eb7ed",
   "metadata": {},
   "outputs": [
    {
     "name": "stderr",
     "output_type": "stream",
     "text": [
      "C:\\Users\\Admin\\notebook.py:42: UserWarning: This figure includes Axes that are not compatible with tight_layout, so results might be incorrect.\n",
      "  fig.tight_layout()\n"
     ]
    },
    {
     "data": {
      "image/png": "[encoded data removed]",
      "text/plain": [
       "<Figure size 504x504 with 9 Axes>"
      ]
     },
     "metadata": {
      "needs_background": "light"
     },
     "output_type": "display_data"
    }
   ],
   "source": [
    "plot_NQueens(nq1.initial)"
   ]
  },
  {
   "cell_type": "code",
   "execution_count": 12,
   "id": "96e46076-dfa1-41bc-8183-35fe911e9ff1",
   "metadata": {},
   "outputs": [],
   "source": [
    "n1 = Node(state=nq1.initial)"
   ]
  },
  {
   "cell_type": "code",
   "execution_count": 13,
   "id": "73f6692f-7137-48ef-8293-b2b53baf884c",
   "metadata": {},
   "outputs": [],
   "source": [
    "num_conflicts = nq1.h(n1)"
   ]
  },
  {
   "cell_type": "code",
   "execution_count": 14,
   "id": "27ca3db6-e3ca-4132-97e4-b64c4b213fff",
   "metadata": {},
   "outputs": [
    {
     "name": "stdout",
     "output_type": "stream",
     "text": [
      "Initial Conflicts = 14\n"
     ]
    }
   ],
   "source": [
    "print(\"Initial Conflicts = {0}\".format(num_conflicts))"
   ]
  },
  {
   "cell_type": "code",
   "execution_count": 15,
   "id": "d95cb3dd-718c-48e5-9de1-b4fb477d8fb4",
   "metadata": {},
   "outputs": [
    {
     "name": "stdout",
     "output_type": "stream",
     "text": [
      "Goal test succeeded at iteration {0}. 25\n"
     ]
    }
   ],
   "source": [
    "sol1=hill_climbing(nq1,iterations=20000)"
   ]
  },
  {
   "cell_type": "code",
   "execution_count": 16,
   "id": "fe661971-14b0-43a2-bf85-dd534f269603",
   "metadata": {},
   "outputs": [
    {
     "data": {
      "text/plain": [
       "(1, 5, 7, 2, 0, 3, 6, 4)"
      ]
     },
     "execution_count": 16,
     "metadata": {},
     "output_type": "execute_result"
    }
   ],
   "source": [
    "sol1.state"
   ]
  },
  {
   "cell_type": "code",
   "execution_count": 17,
   "id": "ec44cbcc-7396-4214-b1ab-37a5d93bdff6",
   "metadata": {},
   "outputs": [],
   "source": [
    "num_conflicts = nq1.h(sol1)"
   ]
  },
  {
   "cell_type": "code",
   "execution_count": 18,
   "id": "049100f9-eaf1-4c97-9deb-376e7d7dd107",
   "metadata": {},
   "outputs": [
    {
     "name": "stdout",
     "output_type": "stream",
     "text": [
      "Final Conflicts = 0\n"
     ]
    }
   ],
   "source": [
    "print(\"Final Conflicts = {0}\".format(num_conflicts))"
   ]
  },
  {
   "cell_type": "code",
   "execution_count": 19,
   "id": "ced993eb-afee-4286-b29a-b30096f27013",
   "metadata": {},
   "outputs": [
    {
     "data": {
      "image/png": "[encoded data removed]",
      "text/plain": [
       "<Figure size 504x504 with 9 Axes>"
      ]
     },
     "metadata": {
      "needs_background": "light"
     },
     "output_type": "display_data"
    }
   ],
   "source": [
    "plot_NQueens(list(sol1.state))"
   ]
  },
  {
   "cell_type": "code",
   "execution_count": 22,
   "id": "3f749ba2",
   "metadata": {},
   "outputs": [
    {
     "name": "stdout",
     "output_type": "stream",
     "text": [
      "The total time required for 20000 iterations is 200.6906 seconds\n",
      "--- 200.69160866737366 seconds ---\n"
     ]
    }
   ],
   "source": [
    "print(\"The total time required for 20000 iterations is {0:.4f} seconds\".format(time.time() - start_time))\n",
    "\n"
   ]
  },
  {
   "cell_type": "code",
   "execution_count": 46,
   "id": "bc18362d",
   "metadata": {},
   "outputs": [
    {
     "name": "stdout",
     "output_type": "stream",
     "text": [
      "Type 1:\tIterations:600\n",
      "Initial Conflicts = 14\n",
      "Goal test succeeded at iteration {0}. 11\n",
      "(2, 5, 1, 6, 0, 3, 7, 4)\n",
      "Final Conflicts = 0\n",
      "The total time required for 20000 iterations is 0.0540 seconds\n",
      "\n",
      "\n",
      "Type 2:\tIterations:700\n",
      "Initial Conflicts = 14\n",
      "Goal test succeeded at iteration {0}. 15\n",
      "(2, 5, 1, 4, 7, 0, 6, 3)\n",
      "Final Conflicts = 0\n",
      "The total time required for 20000 iterations is 0.0630 seconds\n",
      "\n",
      "\n",
      "Type 3:\tIterations:850\n",
      "Initial Conflicts = 14\n",
      "Goal test succeeded at iteration {0}. 9\n",
      "(2, 5, 1, 4, 7, 0, 6, 3)\n",
      "Final Conflicts = 0\n",
      "The total time required for 20000 iterations is 0.0370 seconds\n",
      "\n",
      "\n",
      "Type 4:\tIterations:950\n",
      "Initial Conflicts = 14\n",
      "Goal test succeeded at iteration {0}. 22\n",
      "(2, 5, 1, 6, 0, 3, 7, 4)\n",
      "Final Conflicts = 0\n",
      "The total time required for 20000 iterations is 0.0929 seconds\n",
      "\n",
      "\n",
      "Type 5:\tIterations:1700\n",
      "Initial Conflicts = 14\n",
      "Goal test succeeded at iteration {0}. 88\n",
      "(2, 5, 3, 0, 7, 4, 6, 1)\n",
      "Final Conflicts = 0\n",
      "The total time required for 20000 iterations is 0.3658 seconds\n",
      "\n",
      "\n",
      "Type 6:\tIterations:2500\n",
      "Initial Conflicts = 14\n",
      "Goal test succeeded at iteration {0}. 11\n",
      "(2, 4, 7, 3, 0, 6, 1, 5)\n",
      "Final Conflicts = 0\n",
      "The total time required for 20000 iterations is 0.0440 seconds\n",
      "\n",
      "\n",
      "Type 7:\tIterations:3500\n",
      "Initial Conflicts = 14\n",
      "Goal test succeeded at iteration {0}. 16\n",
      "(2, 4, 1, 7, 5, 3, 6, 0)\n",
      "Final Conflicts = 0\n",
      "The total time required for 20000 iterations is 0.0760 seconds\n",
      "\n",
      "\n",
      "Type 8:\tIterations:4000\n",
      "Initial Conflicts = 14\n",
      "Goal test succeeded at iteration {0}. 17\n",
      "(2, 5, 1, 6, 0, 3, 7, 4)\n",
      "Final Conflicts = 0\n",
      "The total time required for 20000 iterations is 0.0710 seconds\n",
      "\n",
      "\n",
      "Type 9:\tIterations:5900\n",
      "Initial Conflicts = 14\n",
      "Goal test succeeded at iteration {0}. 7\n",
      "(2, 5, 1, 6, 0, 3, 7, 4)\n",
      "Final Conflicts = 0\n",
      "The total time required for 20000 iterations is 0.0280 seconds\n",
      "\n",
      "\n",
      "Type 10:\tIterations:12000\n",
      "Initial Conflicts = 14\n",
      "Goal test succeeded at iteration {0}. 35\n",
      "(3, 6, 0, 7, 4, 1, 5, 2)\n",
      "Final Conflicts = 0\n",
      "The total time required for 20000 iterations is 0.1469 seconds\n",
      "\n",
      "\n"
     ]
    }
   ],
   "source": [
    "\n",
    "iterations=[600,700,850,950,1700,2500,3500,4000,5900,12000]\n",
    "time_taken=[]\n",
    "num=1\n",
    "for each_i in iterations:\n",
    "    print(\"Type {0}:\\tIterations:{1}\".format(num,each_i))\n",
    "    n1 = Node(state=nq1.initial)\n",
    "    num_conflicts = nq1.h(n1)\n",
    "    print(\"Initial Conflicts = {0}\".format(num_conflicts))\n",
    "    start=time.time()\n",
    "    sol1=hill_climbing(nq1,iterations=each_i)\n",
    "    end=time.time()\n",
    "    print(sol1.state)\n",
    "    num_conflicts = nq1.h(sol1)\n",
    "    print(\"Final Conflicts = {0}\".format(num_conflicts))\n",
    "    print(\"The total time required for 20000 iterations is {0:.4f} seconds\\n\\n\".format(end-start))\n",
    "    time_taken.append(end-start)\n",
    "    num+=1"
   ]
  },
  {
   "cell_type": "code",
   "execution_count": 47,
   "id": "c0f8e24d",
   "metadata": {},
   "outputs": [
    {
     "data": {
      "image/png": "[encoded data removed]",
      "text/plain": [
       "<Figure size 432x288 with 1 Axes>"
      ]
     },
     "metadata": {
      "needs_background": "light"
     },
     "output_type": "display_data"
    }
   ],
   "source": [
    "\n",
    "plt.title(\"Number of Iterations VS Time taken\")\n",
    "plt.xlabel(\"Iteration\")\n",
    "plt.ylabel(\"Time taken\")\n",
    "plt.plot(iterations,time_taken)\n",
    "plt.show()\n"
   ]
  },
  {
   "cell_type": "code",
   "execution_count": null,
   "id": "c4fdae39",
   "metadata": {},
   "outputs": [],
   "source": []
  }
 ],
 "metadata": {
  "kernelspec": {
   "display_name": "Python 3 (ipykernel)",
   "language": "python",
   "name": "python3"
  },
  "language_info": {
   "codemirror_mode": {
    "name": "ipython",
    "version": 3
   },
   "file_extension": ".py",
   "mimetype": "text/x-python",
   "name": "python",
   "nbconvert_exporter": "python",
   "pygments_lexer": "ipython3",
   "version": "3.9.7"
  }
 },
 "nbformat": 4,
 "nbformat_minor": 5
}
